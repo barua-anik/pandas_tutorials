{
 "cells": [
  {
   "cell_type": "code",
   "execution_count": 1,
   "metadata": {
    "ExecuteTime": {
     "end_time": "2019-07-09T13:49:42.447552Z",
     "start_time": "2019-07-09T13:49:41.444378Z"
    }
   },
   "outputs": [],
   "source": [
    "import pandas as pd"
   ]
  },
  {
   "cell_type": "code",
   "execution_count": 2,
   "metadata": {
    "ExecuteTime": {
     "end_time": "2019-07-09T13:49:42.515371Z",
     "start_time": "2019-07-09T13:49:42.450543Z"
    }
   },
   "outputs": [
    {
     "data": {
      "text/html": [
       "<div>\n",
       "<style scoped>\n",
       "    .dataframe tbody tr th:only-of-type {\n",
       "        vertical-align: middle;\n",
       "    }\n",
       "\n",
       "    .dataframe tbody tr th {\n",
       "        vertical-align: top;\n",
       "    }\n",
       "\n",
       "    .dataframe thead th {\n",
       "        text-align: right;\n",
       "    }\n",
       "</style>\n",
       "<table border=\"1\" class=\"dataframe\">\n",
       "  <thead>\n",
       "    <tr style=\"text-align: right;\">\n",
       "      <th></th>\n",
       "      <th>Date</th>\n",
       "      <th>Open</th>\n",
       "      <th>High</th>\n",
       "      <th>Low</th>\n",
       "      <th>Close</th>\n",
       "      <th>Adj Close</th>\n",
       "      <th>Volume</th>\n",
       "    </tr>\n",
       "  </thead>\n",
       "  <tbody>\n",
       "    <tr>\n",
       "      <th>0</th>\n",
       "      <td>2018-07-09</td>\n",
       "      <td>189.500000</td>\n",
       "      <td>190.679993</td>\n",
       "      <td>189.300003</td>\n",
       "      <td>190.580002</td>\n",
       "      <td>187.722488</td>\n",
       "      <td>19756600</td>\n",
       "    </tr>\n",
       "    <tr>\n",
       "      <th>1</th>\n",
       "      <td>2018-07-10</td>\n",
       "      <td>190.710007</td>\n",
       "      <td>191.279999</td>\n",
       "      <td>190.179993</td>\n",
       "      <td>190.350006</td>\n",
       "      <td>187.495941</td>\n",
       "      <td>15939100</td>\n",
       "    </tr>\n",
       "    <tr>\n",
       "      <th>2</th>\n",
       "      <td>2018-07-11</td>\n",
       "      <td>188.500000</td>\n",
       "      <td>189.779999</td>\n",
       "      <td>187.610001</td>\n",
       "      <td>187.880005</td>\n",
       "      <td>185.062973</td>\n",
       "      <td>18831500</td>\n",
       "    </tr>\n",
       "    <tr>\n",
       "      <th>3</th>\n",
       "      <td>2018-07-12</td>\n",
       "      <td>189.529999</td>\n",
       "      <td>191.410004</td>\n",
       "      <td>189.309998</td>\n",
       "      <td>191.029999</td>\n",
       "      <td>188.165741</td>\n",
       "      <td>18041100</td>\n",
       "    </tr>\n",
       "    <tr>\n",
       "      <th>4</th>\n",
       "      <td>2018-07-13</td>\n",
       "      <td>191.080002</td>\n",
       "      <td>191.839996</td>\n",
       "      <td>190.899994</td>\n",
       "      <td>191.330002</td>\n",
       "      <td>188.461243</td>\n",
       "      <td>12513900</td>\n",
       "    </tr>\n",
       "  </tbody>\n",
       "</table>\n",
       "</div>"
      ],
      "text/plain": [
       "         Date        Open        High         Low       Close   Adj Close  \\\n",
       "0  2018-07-09  189.500000  190.679993  189.300003  190.580002  187.722488   \n",
       "1  2018-07-10  190.710007  191.279999  190.179993  190.350006  187.495941   \n",
       "2  2018-07-11  188.500000  189.779999  187.610001  187.880005  185.062973   \n",
       "3  2018-07-12  189.529999  191.410004  189.309998  191.029999  188.165741   \n",
       "4  2018-07-13  191.080002  191.839996  190.899994  191.330002  188.461243   \n",
       "\n",
       "     Volume  \n",
       "0  19756600  \n",
       "1  15939100  \n",
       "2  18831500  \n",
       "3  18041100  \n",
       "4  12513900  "
      ]
     },
     "execution_count": 2,
     "metadata": {},
     "output_type": "execute_result"
    }
   ],
   "source": [
    "df = pd.read_csv(\"apple_data.csv\")\n",
    "df.head()\n"
   ]
  },
  {
   "cell_type": "code",
   "execution_count": 3,
   "metadata": {
    "ExecuteTime": {
     "end_time": "2019-07-09T13:49:42.545291Z",
     "start_time": "2019-07-09T13:49:42.519362Z"
    }
   },
   "outputs": [
    {
     "data": {
      "text/html": [
       "<div>\n",
       "<style scoped>\n",
       "    .dataframe tbody tr th:only-of-type {\n",
       "        vertical-align: middle;\n",
       "    }\n",
       "\n",
       "    .dataframe tbody tr th {\n",
       "        vertical-align: top;\n",
       "    }\n",
       "\n",
       "    .dataframe thead th {\n",
       "        text-align: right;\n",
       "    }\n",
       "</style>\n",
       "<table border=\"1\" class=\"dataframe\">\n",
       "  <thead>\n",
       "    <tr style=\"text-align: right;\">\n",
       "      <th></th>\n",
       "      <th>Open</th>\n",
       "      <th>High</th>\n",
       "      <th>Low</th>\n",
       "      <th>Close</th>\n",
       "      <th>Adj Close</th>\n",
       "      <th>Volume</th>\n",
       "    </tr>\n",
       "  </thead>\n",
       "  <tbody>\n",
       "    <tr>\n",
       "      <th>0</th>\n",
       "      <td>189.500000</td>\n",
       "      <td>190.679993</td>\n",
       "      <td>189.300003</td>\n",
       "      <td>190.580002</td>\n",
       "      <td>187.722488</td>\n",
       "      <td>19756600</td>\n",
       "    </tr>\n",
       "    <tr>\n",
       "      <th>1</th>\n",
       "      <td>190.710007</td>\n",
       "      <td>191.279999</td>\n",
       "      <td>190.179993</td>\n",
       "      <td>190.350006</td>\n",
       "      <td>187.495941</td>\n",
       "      <td>15939100</td>\n",
       "    </tr>\n",
       "    <tr>\n",
       "      <th>2</th>\n",
       "      <td>188.500000</td>\n",
       "      <td>189.779999</td>\n",
       "      <td>187.610001</td>\n",
       "      <td>187.880005</td>\n",
       "      <td>185.062973</td>\n",
       "      <td>18831500</td>\n",
       "    </tr>\n",
       "    <tr>\n",
       "      <th>3</th>\n",
       "      <td>189.529999</td>\n",
       "      <td>191.410004</td>\n",
       "      <td>189.309998</td>\n",
       "      <td>191.029999</td>\n",
       "      <td>188.165741</td>\n",
       "      <td>18041100</td>\n",
       "    </tr>\n",
       "    <tr>\n",
       "      <th>4</th>\n",
       "      <td>191.080002</td>\n",
       "      <td>191.839996</td>\n",
       "      <td>190.899994</td>\n",
       "      <td>191.330002</td>\n",
       "      <td>188.461243</td>\n",
       "      <td>12513900</td>\n",
       "    </tr>\n",
       "    <tr>\n",
       "      <th>5</th>\n",
       "      <td>191.520004</td>\n",
       "      <td>192.649994</td>\n",
       "      <td>190.419998</td>\n",
       "      <td>190.910004</td>\n",
       "      <td>188.047531</td>\n",
       "      <td>15043100</td>\n",
       "    </tr>\n",
       "    <tr>\n",
       "      <th>6</th>\n",
       "      <td>189.750000</td>\n",
       "      <td>191.869995</td>\n",
       "      <td>189.199997</td>\n",
       "      <td>191.449997</td>\n",
       "      <td>188.579453</td>\n",
       "      <td>15534500</td>\n",
       "    </tr>\n",
       "    <tr>\n",
       "      <th>7</th>\n",
       "      <td>191.779999</td>\n",
       "      <td>191.800003</td>\n",
       "      <td>189.929993</td>\n",
       "      <td>190.399994</td>\n",
       "      <td>187.545181</td>\n",
       "      <td>16393400</td>\n",
       "    </tr>\n",
       "    <tr>\n",
       "      <th>8</th>\n",
       "      <td>189.690002</td>\n",
       "      <td>192.550003</td>\n",
       "      <td>189.690002</td>\n",
       "      <td>191.880005</td>\n",
       "      <td>189.003006</td>\n",
       "      <td>20286800</td>\n",
       "    </tr>\n",
       "    <tr>\n",
       "      <th>9</th>\n",
       "      <td>191.779999</td>\n",
       "      <td>192.429993</td>\n",
       "      <td>190.169998</td>\n",
       "      <td>191.440002</td>\n",
       "      <td>188.569595</td>\n",
       "      <td>20676200</td>\n",
       "    </tr>\n",
       "    <tr>\n",
       "      <th>10</th>\n",
       "      <td>190.679993</td>\n",
       "      <td>191.960007</td>\n",
       "      <td>189.559998</td>\n",
       "      <td>191.610001</td>\n",
       "      <td>188.737030</td>\n",
       "      <td>15989400</td>\n",
       "    </tr>\n",
       "    <tr>\n",
       "      <th>11</th>\n",
       "      <td>192.449997</td>\n",
       "      <td>193.660004</td>\n",
       "      <td>192.050003</td>\n",
       "      <td>193.000000</td>\n",
       "      <td>190.106216</td>\n",
       "      <td>18697900</td>\n",
       "    </tr>\n",
       "    <tr>\n",
       "      <th>12</th>\n",
       "      <td>193.059998</td>\n",
       "      <td>194.850006</td>\n",
       "      <td>192.429993</td>\n",
       "      <td>194.820007</td>\n",
       "      <td>191.898926</td>\n",
       "      <td>16709900</td>\n",
       "    </tr>\n",
       "    <tr>\n",
       "      <th>13</th>\n",
       "      <td>194.610001</td>\n",
       "      <td>195.960007</td>\n",
       "      <td>193.610001</td>\n",
       "      <td>194.210007</td>\n",
       "      <td>191.298080</td>\n",
       "      <td>19076000</td>\n",
       "    </tr>\n",
       "    <tr>\n",
       "      <th>14</th>\n",
       "      <td>194.990005</td>\n",
       "      <td>195.190002</td>\n",
       "      <td>190.100006</td>\n",
       "      <td>190.979996</td>\n",
       "      <td>188.116501</td>\n",
       "      <td>24024000</td>\n",
       "    </tr>\n",
       "  </tbody>\n",
       "</table>\n",
       "</div>"
      ],
      "text/plain": [
       "          Open        High         Low       Close   Adj Close    Volume\n",
       "0   189.500000  190.679993  189.300003  190.580002  187.722488  19756600\n",
       "1   190.710007  191.279999  190.179993  190.350006  187.495941  15939100\n",
       "2   188.500000  189.779999  187.610001  187.880005  185.062973  18831500\n",
       "3   189.529999  191.410004  189.309998  191.029999  188.165741  18041100\n",
       "4   191.080002  191.839996  190.899994  191.330002  188.461243  12513900\n",
       "5   191.520004  192.649994  190.419998  190.910004  188.047531  15043100\n",
       "6   189.750000  191.869995  189.199997  191.449997  188.579453  15534500\n",
       "7   191.779999  191.800003  189.929993  190.399994  187.545181  16393400\n",
       "8   189.690002  192.550003  189.690002  191.880005  189.003006  20286800\n",
       "9   191.779999  192.429993  190.169998  191.440002  188.569595  20676200\n",
       "10  190.679993  191.960007  189.559998  191.610001  188.737030  15989400\n",
       "11  192.449997  193.660004  192.050003  193.000000  190.106216  18697900\n",
       "12  193.059998  194.850006  192.429993  194.820007  191.898926  16709900\n",
       "13  194.610001  195.960007  193.610001  194.210007  191.298080  19076000\n",
       "14  194.990005  195.190002  190.100006  190.979996  188.116501  24024000"
      ]
     },
     "execution_count": 3,
     "metadata": {},
     "output_type": "execute_result"
    }
   ],
   "source": [
    "df_no_date =  df.drop(columns=\"Date\")\n",
    "df_no_date.head(15)"
   ]
  },
  {
   "cell_type": "code",
   "execution_count": 4,
   "metadata": {
    "ExecuteTime": {
     "end_time": "2019-07-09T13:49:42.569229Z",
     "start_time": "2019-07-09T13:49:42.550279Z"
    }
   },
   "outputs": [
    {
     "data": {
      "text/plain": [
       "DatetimeIndex(['2019-01-01', '2019-01-02', '2019-01-03', '2019-01-04',\n",
       "               '2019-01-07', '2019-01-08', '2019-01-09', '2019-01-10',\n",
       "               '2019-01-11', '2019-01-14', '2019-01-15', '2019-01-16',\n",
       "               '2019-01-17', '2019-01-18', '2019-01-21', '2019-01-22',\n",
       "               '2019-01-23', '2019-01-24', '2019-01-25', '2019-01-28',\n",
       "               '2019-01-29', '2019-01-30', '2019-01-31', '2019-02-01',\n",
       "               '2019-02-04', '2019-02-05', '2019-02-06', '2019-02-07',\n",
       "               '2019-02-08', '2019-02-11', '2019-02-12', '2019-02-13',\n",
       "               '2019-02-14', '2019-02-15', '2019-02-18', '2019-02-19',\n",
       "               '2019-02-20', '2019-02-21', '2019-02-22', '2019-02-25',\n",
       "               '2019-02-26', '2019-02-27', '2019-02-28', '2019-03-01',\n",
       "               '2019-03-04', '2019-03-05', '2019-03-06', '2019-03-07',\n",
       "               '2019-03-08', '2019-03-11'],\n",
       "              dtype='datetime64[ns]', freq='B')"
      ]
     },
     "execution_count": 4,
     "metadata": {},
     "output_type": "execute_result"
    }
   ],
   "source": [
    "# normal date printing with Businees Days \n",
    "# it excludes weekends but not holidays \n",
    "\n",
    "pd.date_range(start=\"1/1/2019\", periods = 50, freq = 'B')"
   ]
  },
  {
   "cell_type": "markdown",
   "metadata": {},
   "source": [
    "# Making a custom holiday class"
   ]
  },
  {
   "cell_type": "code",
   "execution_count": 30,
   "metadata": {
    "ExecuteTime": {
     "end_time": "2019-07-09T14:37:39.307549Z",
     "start_time": "2019-07-09T14:37:39.297572Z"
    }
   },
   "outputs": [
    {
     "data": {
      "text/plain": [
       "DatetimeIndex(['2019-06-01', '2019-06-02', '2019-06-03', '2019-06-04',\n",
       "               '2019-06-05', '2019-06-06', '2019-06-07', '2019-06-08',\n",
       "               '2019-06-09', '2019-06-10', '2019-06-11', '2019-06-12',\n",
       "               '2019-06-13', '2019-06-14', '2019-06-15', '2019-06-16',\n",
       "               '2019-06-17', '2019-06-18', '2019-06-19', '2019-06-20',\n",
       "               '2019-06-21', '2019-06-22', '2019-06-23', '2019-06-24',\n",
       "               '2019-06-25', '2019-06-26', '2019-06-27', '2019-06-28',\n",
       "               '2019-06-29', '2019-06-30', '2019-07-01', '2019-07-02',\n",
       "               '2019-07-03', '2019-07-04', '2019-07-05', '2019-07-06',\n",
       "               '2019-07-07', '2019-07-08', '2019-07-09', '2019-07-10',\n",
       "               '2019-07-11', '2019-07-12', '2019-07-13', '2019-07-14',\n",
       "               '2019-07-15', '2019-07-16', '2019-07-17', '2019-07-18',\n",
       "               '2019-07-19', '2019-07-20', '2019-07-21', '2019-07-22',\n",
       "               '2019-07-23', '2019-07-24', '2019-07-25', '2019-07-26',\n",
       "               '2019-07-27', '2019-07-28', '2019-07-29', '2019-07-30',\n",
       "               '2019-07-31', '2019-08-01'],\n",
       "              dtype='datetime64[ns]', freq='D')"
      ]
     },
     "execution_count": 30,
     "metadata": {},
     "output_type": "execute_result"
    }
   ],
   "source": [
    "# Custom Holiday Calender \n",
    "\n",
    "from pandas.tseries.holiday import AbstractHolidayCalendar, nearest_workday, Holiday\n",
    "\n",
    "class MyBirthDayCalender(AbstractHolidayCalendar):\n",
    "    \n",
    "    rules = [\n",
    "        Holiday('Anik\"s Birth Day', month = 7, day = 16)\n",
    "    ]\n",
    "    \n",
    "mycal = AbstractHolidayCalendar(MyBirthDayCalender())\n",
    "\n",
    "\n",
    "'''\n",
    "ERROR: needs to be solved \n",
    "\n",
    "freq = mycal should exclude the given date \n",
    "\n",
    "'''\n",
    "\n",
    "pd.date_range(start=\"6/1/2019\", end = \"8/1/2019\", freq='D')\n",
    "\n"
   ]
  },
  {
   "cell_type": "code",
   "execution_count": null,
   "metadata": {
    "ExecuteTime": {
     "end_time": "2019-07-09T13:49:42.831127Z",
     "start_time": "2019-07-09T13:49:42.590171Z"
    }
   },
   "outputs": [],
   "source": []
  },
  {
   "cell_type": "code",
   "execution_count": null,
   "metadata": {},
   "outputs": [],
   "source": []
  }
 ],
 "metadata": {
  "kernelspec": {
   "display_name": "Python 3",
   "language": "python",
   "name": "python3"
  },
  "language_info": {
   "codemirror_mode": {
    "name": "ipython",
    "version": 3
   },
   "file_extension": ".py",
   "mimetype": "text/x-python",
   "name": "python",
   "nbconvert_exporter": "python",
   "pygments_lexer": "ipython3",
   "version": "3.7.3"
  },
  "toc": {
   "base_numbering": 1,
   "nav_menu": {},
   "number_sections": true,
   "sideBar": true,
   "skip_h1_title": false,
   "title_cell": "Table of Contents",
   "title_sidebar": "Contents",
   "toc_cell": false,
   "toc_position": {},
   "toc_section_display": true,
   "toc_window_display": false
  },
  "varInspector": {
   "cols": {
    "lenName": 16,
    "lenType": 16,
    "lenVar": 40
   },
   "kernels_config": {
    "python": {
     "delete_cmd_postfix": "",
     "delete_cmd_prefix": "del ",
     "library": "var_list.py",
     "varRefreshCmd": "print(var_dic_list())"
    },
    "r": {
     "delete_cmd_postfix": ") ",
     "delete_cmd_prefix": "rm(",
     "library": "var_list.r",
     "varRefreshCmd": "cat(var_dic_list()) "
    }
   },
   "types_to_exclude": [
    "module",
    "function",
    "builtin_function_or_method",
    "instance",
    "_Feature"
   ],
   "window_display": false
  }
 },
 "nbformat": 4,
 "nbformat_minor": 2
}
