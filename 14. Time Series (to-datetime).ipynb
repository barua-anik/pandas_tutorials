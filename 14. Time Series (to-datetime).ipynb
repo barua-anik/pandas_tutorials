{
 "cells": [
  {
   "cell_type": "code",
   "execution_count": 1,
   "metadata": {
    "ExecuteTime": {
     "end_time": "2019-07-09T15:20:04.541325Z",
     "start_time": "2019-07-09T15:20:03.954895Z"
    }
   },
   "outputs": [],
   "source": [
    "import pandas as pd"
   ]
  },
  {
   "cell_type": "code",
   "execution_count": 2,
   "metadata": {
    "ExecuteTime": {
     "end_time": "2019-07-09T15:20:04.550313Z",
     "start_time": "2019-07-09T15:20:04.545318Z"
    }
   },
   "outputs": [],
   "source": [
    "# dates in US format \n",
    "# US: mm/dd/yyyy\n",
    "# Europe: dd/mm/yyyy\n",
    "\n",
    "dates = ['2019-01-05','Jan 05, 2019','01/05/2017','2017.01.05','2017/01/05','20170105']"
   ]
  },
  {
   "cell_type": "code",
   "execution_count": 3,
   "metadata": {
    "ExecuteTime": {
     "end_time": "2019-07-09T15:20:04.582309Z",
     "start_time": "2019-07-09T15:20:04.553326Z"
    }
   },
   "outputs": [
    {
     "data": {
      "text/plain": [
       "DatetimeIndex(['2019-01-05', '2019-01-05', '2017-01-05', '2017-01-05',\n",
       "               '2017-01-05', '2017-01-05'],\n",
       "              dtype='datetime64[ns]', freq=None)"
      ]
     },
     "execution_count": 3,
     "metadata": {},
     "output_type": "execute_result"
    }
   ],
   "source": [
    "# changing different date format to same format \n",
    "\n",
    "\n",
    "pd.to_datetime(dates)"
   ]
  },
  {
   "cell_type": "code",
   "execution_count": 4,
   "metadata": {
    "ExecuteTime": {
     "end_time": "2019-07-09T15:20:04.600258Z",
     "start_time": "2019-07-09T15:20:04.586295Z"
    }
   },
   "outputs": [
    {
     "data": {
      "text/plain": [
       "DatetimeIndex(['2019-07-09 14:30:00', '2019-07-09 14:30:00'], dtype='datetime64[ns]', freq=None)"
      ]
     },
     "execution_count": 4,
     "metadata": {},
     "output_type": "execute_result"
    }
   ],
   "source": [
    "times = ['2:30:00 PM','14:30:00']\n",
    "pd.to_datetime(times)"
   ]
  },
  {
   "cell_type": "code",
   "execution_count": 5,
   "metadata": {
    "ExecuteTime": {
     "end_time": "2019-07-09T15:20:04.620205Z",
     "start_time": "2019-07-09T15:20:04.603251Z"
    }
   },
   "outputs": [
    {
     "data": {
      "text/plain": [
       "Timestamp('2019-01-05 00:00:00')"
      ]
     },
     "execution_count": 5,
     "metadata": {},
     "output_type": "execute_result"
    }
   ],
   "source": [
    "# Dates in EU format \n",
    "\n",
    "pd.to_datetime('5/1/2019', dayfirst=True)"
   ]
  },
  {
   "cell_type": "code",
   "execution_count": 6,
   "metadata": {
    "ExecuteTime": {
     "end_time": "2019-07-09T15:20:04.638158Z",
     "start_time": "2019-07-09T15:20:04.622198Z"
    }
   },
   "outputs": [
    {
     "data": {
      "text/plain": [
       "Timestamp('2019-01-15 00:00:00')"
      ]
     },
     "execution_count": 6,
     "metadata": {},
     "output_type": "execute_result"
    }
   ],
   "source": [
    "# using custom format \n",
    "\n",
    "pd.to_datetime('15#1#2019',  format='%d#%m#%Y')"
   ]
  },
  {
   "cell_type": "code",
   "execution_count": 7,
   "metadata": {
    "ExecuteTime": {
     "end_time": "2019-07-09T15:20:04.665084Z",
     "start_time": "2019-07-09T15:20:04.644144Z"
    }
   },
   "outputs": [
    {
     "data": {
      "text/plain": [
       "Index(['2019-01-05', 'Jan 05, 2019', '01/05/2017', '2017.01.05', 'asdfg'], dtype='object')"
      ]
     },
     "execution_count": 7,
     "metadata": {},
     "output_type": "execute_result"
    }
   ],
   "source": [
    "# ignoring errors for invalid values \n",
    "'''\n",
    "The following code ignores the errors, at the same time doesn't convert the date formats\n",
    "'''\n",
    "\n",
    "dates = ['2019-01-05','Jan 05, 2019','01/05/2017','2017.01.05','asdfg']\n",
    "pd.to_datetime(dates, errors='ignore')\n",
    "\n"
   ]
  },
  {
   "cell_type": "code",
   "execution_count": 8,
   "metadata": {
    "ExecuteTime": {
     "end_time": "2019-07-09T15:20:04.691034Z",
     "start_time": "2019-07-09T15:20:04.667079Z"
    }
   },
   "outputs": [
    {
     "data": {
      "text/plain": [
       "DatetimeIndex(['2019-01-05', '2019-01-05', '2017-01-05', '2017-01-05', 'NaT'], dtype='datetime64[ns]', freq=None)"
      ]
     },
     "execution_count": 8,
     "metadata": {},
     "output_type": "execute_result"
    }
   ],
   "source": [
    "\n",
    "# ignoring the invalid string only\n",
    "# NaT = Not a Time \n",
    "\n",
    "dates = ['2019-01-05','Jan 05, 2019','01/05/2017','2017.01.05','asdfg']\n",
    "pd.to_datetime(dates, errors='coerce')\n",
    "\n"
   ]
  },
  {
   "cell_type": "markdown",
   "metadata": {},
   "source": [
    "# epoch time"
   ]
  },
  {
   "cell_type": "code",
   "execution_count": 10,
   "metadata": {
    "ExecuteTime": {
     "end_time": "2019-07-09T15:20:27.981498Z",
     "start_time": "2019-07-09T15:20:27.973534Z"
    }
   },
   "outputs": [
    {
     "data": {
      "text/plain": [
       "array([1562685443000000000], dtype=int64)"
      ]
     },
     "execution_count": 10,
     "metadata": {},
     "output_type": "execute_result"
    }
   ],
   "source": [
    "# epoch time to datetime\n",
    "\n",
    "'''\n",
    "The Unix epoch (or Unix time or POSIX time or Unix timestamp) \n",
    "is the number of seconds that have elapsed since January 1, 1970\n",
    "'''\n",
    "\n",
    "t = 1562685443\n",
    "dt= pd.to_datetime([t], unit='s') # we are suppling t in seconds \n",
    "dt\n",
    "\n"
   ]
  },
  {
   "cell_type": "code",
   "execution_count": 11,
   "metadata": {
    "ExecuteTime": {
     "end_time": "2019-07-09T15:20:34.177636Z",
     "start_time": "2019-07-09T15:20:34.173641Z"
    }
   },
   "outputs": [
    {
     "data": {
      "text/plain": [
       "array([1562685443000000000], dtype=int64)"
      ]
     },
     "execution_count": 11,
     "metadata": {},
     "output_type": "execute_result"
    }
   ],
   "source": [
    "# epoch to datetime\n",
    "dt.view('int64')\n"
   ]
  },
  {
   "cell_type": "code",
   "execution_count": null,
   "metadata": {},
   "outputs": [],
   "source": []
  }
 ],
 "metadata": {
  "kernelspec": {
   "display_name": "Python 3",
   "language": "python",
   "name": "python3"
  },
  "language_info": {
   "codemirror_mode": {
    "name": "ipython",
    "version": 3
   },
   "file_extension": ".py",
   "mimetype": "text/x-python",
   "name": "python",
   "nbconvert_exporter": "python",
   "pygments_lexer": "ipython3",
   "version": "3.7.3"
  },
  "toc": {
   "base_numbering": 1,
   "nav_menu": {},
   "number_sections": true,
   "sideBar": true,
   "skip_h1_title": false,
   "title_cell": "Table of Contents",
   "title_sidebar": "Contents",
   "toc_cell": false,
   "toc_position": {},
   "toc_section_display": true,
   "toc_window_display": false
  },
  "varInspector": {
   "cols": {
    "lenName": 16,
    "lenType": 16,
    "lenVar": 40
   },
   "kernels_config": {
    "python": {
     "delete_cmd_postfix": "",
     "delete_cmd_prefix": "del ",
     "library": "var_list.py",
     "varRefreshCmd": "print(var_dic_list())"
    },
    "r": {
     "delete_cmd_postfix": ") ",
     "delete_cmd_prefix": "rm(",
     "library": "var_list.r",
     "varRefreshCmd": "cat(var_dic_list()) "
    }
   },
   "types_to_exclude": [
    "module",
    "function",
    "builtin_function_or_method",
    "instance",
    "_Feature"
   ],
   "window_display": false
  }
 },
 "nbformat": 4,
 "nbformat_minor": 2
}
